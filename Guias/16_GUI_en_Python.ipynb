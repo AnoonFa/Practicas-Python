{
  "cells": [
    {
      "cell_type": "markdown",
      "metadata": {
        "id": "6QPAqmMZKz_c"
      },
      "source": [
        "![M I S I Ó N.png](data:image/png;base64,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)"
      ]
    },
    {
      "cell_type": "markdown",
      "metadata": {
        "id": "-lSZ5IA0KzQH"
      },
      "source": [
        "# Interfaces gráficas con Tkinter\n",
        "\n",
        "Tkinter es una librería incorporada en Python para el desarrollo de GUI (Interfaces Gráficas de Usuario).  Algunas características:\n",
        "\n",
        "* Preinstalado en la librería estándar de Python\n",
        "* Multiplataforma\n",
        "* Liviana\n"
      ]
    },
    {
      "cell_type": "markdown",
      "metadata": {
        "id": "5MqBk8jsMWAj"
      },
      "source": [
        "importando la librería desde la aplicación Python\n",
        "\n",
        "\n",
        "```\n",
        "import tkinter\n",
        "```\n",
        "\n"
      ]
    },
    {
      "cell_type": "markdown",
      "metadata": {
        "id": "948_kKUvOZRt"
      },
      "source": [
        "**Nota:** Los ejercicios aquí propuestos deben ejecutarse en local no a través del servidor google colab ya que a través de este servidor no tendremos acceso a objetos de tipo Display requeridos."
      ]
    },
    {
      "cell_type": "markdown",
      "metadata": {
        "id": "3CqhNNiYMjlr"
      },
      "source": [
        "## Primera ventana"
      ]
    },
    {
      "cell_type": "code",
      "execution_count": null,
      "metadata": {
        "id": "tBiB24k-MmH7"
      },
      "outputs": [],
      "source": [
        "import tkinter as tk\n",
        "\n",
        "ventana_principal = tk.Tk()\n",
        "ventana_principal.mainloop() # requerido en algunas plataformas"
      ]
    },
    {
      "cell_type": "markdown",
      "metadata": {
        "id": "P5S_lfqFUSnk"
      },
      "source": [
        "## Hola Mundo GUI\n",
        "\n",
        "Para generar nuestro primer mensaje \"Hola Mundo\" requerimos de un \"control\" u \"objeto\" que podamos desplegar dentro de la ventana y sobre el cual podamos escribir un texto.  Estos tipos de \"controles\" son conocidos en el mundo Tkinter como **Widgets**\n",
        "\n",
        "Existe un conjunto importante de widgets y todos se crean a partir de la siguiente sintaxis:\n",
        "\n",
        "```\n",
        "widget = nombre_widget(contenedor, **opciones)\n",
        "```\n",
        "Para el caso de nuestro programa Hola Mundo, usaremos un widget simple de tipo Label, miremos:\n",
        "\n"
      ]
    },
    {
      "cell_type": "markdown",
      "metadata": {
        "id": "rpemvmM73qsO"
      },
      "source": [
        "\n",
        "\n",
        "```\n",
        "import tkinter as tk\n",
        "\n",
        "ventana = tk.Tk()\n",
        "etiqueta = tk.Label(ventana, text=\"Hola Mundo gráfico\")\n",
        "etiqueta.pack()\n",
        "ventana.mainloop()\n",
        "```\n",
        "\n"
      ]
    },
    {
      "cell_type": "markdown",
      "metadata": {
        "id": "4BjCy8TLXQ_c"
      },
      "source": [
        "![mongo8.png](data:image/png;base64,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)"
      ]
    },
    {
      "cell_type": "markdown",
      "metadata": {
        "id": "YkZtfz2MYHSX"
      },
      "source": [
        "## Propiedades de la ventana\n",
        "\n",
        "\n",
        "*   **Title** Obtiene/define el título de la ventana\n",
        "*   **geometry** Tamaño y ubicación de la ventana *width*x*height*±*x*±*y*\n",
        "*   **resizable** Especifica si la ventana puede ajustarse en tamaño (ancho, alto)\n",
        "*   **attributes** Permite especificar otros atributos como su transparencia,  \n",
        "*   **iconbitmap** Permite cambiar el ícono de la ventana\n",
        "\n",
        "Miremos un ejemplo:\n",
        "\n",
        "\n",
        "\n",
        "```\n",
        "import tkinter as tk\n",
        "\n",
        "ventana = tk.Tk()\n",
        "etiqueta = tk.Label(ventana, text=\"Hola Mundo gráfico\")\n",
        "etiqueta.pack()\n",
        "ventana.title(\"Aplicación GUI con Tkinter\")\n",
        "ventana.geometry(\"800x600+150+50\")\n",
        "ventana.resizable(False, True)\n",
        "ventana.attributes(\"-alpha\", 0.9)\n",
        "ventana.mainloop()\n",
        "```\n",
        "\n",
        "\n",
        "\n"
      ]
    },
    {
      "cell_type": "markdown",
      "metadata": {},
      "source": [
        "## Propiedades de la ventana\n",
        "\n",
        "\n",
        "*   **Title** Obtiene/define el título de la ventana\n",
        "*   **geometry** Tamaño y ubicación de la ventana *width*x*height*±*x*±*y*\n",
        "*   **resizable** Especifica si la ventana puede ajustarse en tamaño (ancho, alto)\n",
        "*   **attributes** Permite especificar otros atributos como su transparencia,  \n",
        "*   **iconbitmap** Permite cambiar el ícono de la ventana\n",
        "\n",
        "Miremos un ejemplo:\n",
        "\n",
        "\n",
        "\n",
        "```\n",
        "import tkinter as tk\n",
        "\n",
        "ventana = tk.Tk()\n",
        "etiqueta = tk.Label(ventana, text=\"Hola Mundo gráfico\")\n",
        "etiqueta.pack()\n",
        "ventana.title(\"Aplicación GUI con Tkinter\")\n",
        "ventana.geometry(\"800x600+150+50\")\n",
        "ventana.resizable(False, True)\n",
        "ventana.attributes(\"-alpha\", 0.9)\n",
        "ventana.mainloop()\n",
        "```\n",
        "\n",
        "\n",
        "\n"
      ]
    },
    {
      "cell_type": "markdown",
      "metadata": {
        "id": "8SmDA8K2znKf"
      },
      "source": [
        "## Cuadros de diálogo\n",
        "\n",
        "En las aplicaciones con interfaz gráfica es común el uso de cuadros de diálogo que nos permitan mostrar o capturar información.  "
      ]
    },
    {
      "cell_type": "markdown",
      "metadata": {
        "id": "2he8uDZ90BZO"
      },
      "source": [
        "### messagebox\n"
      ]
    },
    {
      "cell_type": "markdown",
      "metadata": {
        "id": "fMgH-mRk4-Qd"
      },
      "source": [
        "#### - Mensajes\n",
        "\n",
        "El módulo messagebox de Tkinter permite mostrar mensajes al usuario en ventanas emergentes.  Los tipos de mensajes son funciones módulo:\n",
        "\n",
        "\n",
        "*   showinfo() muestra información\n",
        "*   showerror() informa sobre un error\n",
        "*   showwarning() presenta advertencia\n",
        "\n",
        "Las tres funciones reciben 2 parámetros, su **title** y **message**\n",
        "\n",
        "Miremos:\n"
      ]
    },
    {
      "cell_type": "markdown",
      "metadata": {
        "id": "cCVl2zU01vsu"
      },
      "source": [
        "\n",
        "```\n",
        "import tkinter as tk\n",
        "from tkinter.messagebox import showinfo\n",
        "from tkinter.messagebox import showerror\n",
        "from tkinter.messagebox import showwarning\n",
        "\n",
        "ventana = tk.Tk()\n",
        "ventana.title(\"showinfo\")\n",
        "showinfo(title=\"Mensaje\", message=\"Bienvenido\")\n",
        "showerror(title=\"Error\", message=\"Se detectó virus en su equipo\")\n",
        "showwarning(title=\"Advertencia\", message=\"Puedo estar equivocado\\nValide con soporte técnico\")\n",
        "ventana.mainloop()\n",
        "```\n",
        "\n"
      ]
    },
    {
      "cell_type": "markdown",
      "metadata": {
        "id": "ttK9iu0t4FC8"
      },
      "source": [
        "![mongo8.png](data:image/png;base64,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)"
      ]
    },
    {
      "cell_type": "markdown",
      "metadata": {
        "id": "Sjl9VTMC4Lk1"
      },
      "source": [
        "#### askyesno() - Si/No\n",
        "\n",
        "La función askyesno() permite preguntar al usuario y obtener su respuesta True/False\n",
        "\n",
        "Miremos:\n",
        "\n",
        "\n",
        "```\n",
        "import tkinter as tk\n",
        "from tkinter.messagebox import askyesno\n",
        "from tkinter.messagebox import showinfo\n",
        "\n",
        "ventana = tk.Tk()\n",
        "ventana.title(\"Yes/No\")\n",
        "\n",
        "respuesta = askyesno(title=\"Pregunta\", message=\"¿Quieres salir de este programa?\")\n",
        "if respuesta:\n",
        "    ventana.destroy()\n",
        "else:\n",
        "    showinfo(title=\"Supeer\", message=\"Bienvenido\")\n",
        "    \n",
        "ventana.mainloop()\n",
        "```\n",
        "\n",
        "\n"
      ]
    },
    {
      "cell_type": "markdown",
      "metadata": {
        "id": "sGN0-CRk6cXs"
      },
      "source": [
        "![mongo8.png](data:image/png;base64,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)"
      ]
    },
    {
      "cell_type": "markdown",
      "metadata": {
        "id": "FAFLOnKL-hYM"
      },
      "source": [
        "### colorchooser\n",
        "\n",
        "Este módulo permite a través de la función **askcolor()** la selección de un color por parte del usuario.\n",
        "\n",
        "Miremos:\n",
        "\n",
        "\n",
        "\n",
        "```\n",
        "import tkinter as tk\n",
        "from tkinter.colorchooser import askcolor\n",
        "from tkinter.messagebox import showinfo\n",
        "\n",
        "\n",
        "ventana = tk.Tk()\n",
        "ventana.title(\"Cambiar Color\")\n",
        "\n",
        "color = askcolor()\n",
        "ventana[\"bg\"] = color[1]\n",
        "showinfo(message = f\"El color seleccionado fue: {color[0]}\")\n",
        "\n",
        "ventana.mainloop()\n",
        "```\n",
        "\n"
      ]
    },
    {
      "cell_type": "markdown",
      "metadata": {
        "id": "jEEUGZC5AzWX"
      },
      "source": [
        "![mongo8.png](data:image/png;base64,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)"
      ]
    },
    {
      "cell_type": "markdown",
      "metadata": {
        "id": "yVZwDHzXeEds"
      },
      "source": [
        "## Widgets y Tk Themed widgets ttk\n",
        "\n",
        "Aunque se pueden usar los widgets directamente a partir del módulo tkinter como el Label del programa anterior, a partir de Tkinter 8.5 una nueva generación de widgets han reemplazado y mejorado a los widgets tradicionales.  Son los Tk themed widgets (ttk) ttk es un submódulo de tkinter y a partir de él podemos crear y usar los widgets ttk"
      ]
    },
    {
      "cell_type": "markdown",
      "metadata": {
        "id": "TFJgWMjJhD4d"
      },
      "source": [
        "### ttk Button\n",
        "\n",
        "Sintaxis\n",
        "\n",
        "\n",
        "\n",
        "```\n",
        "mi_boton = ttk.Button(contenedor, **opciones)\n",
        "```\n",
        "Las opciones más importantes son:\n",
        "*   text:  El texto del botón\n",
        "*   command: El nombre de la función que se ejecuta al dar click en el botón.  Miremos:\n",
        "\n",
        "```\n",
        "import tkinter as tk\n",
        "from tkinter import ttk\n",
        "\n",
        "def saludar():\n",
        "    print(\"Hola, Gracias por hacer click\")\n",
        "\n",
        "ventana = tk.Tk()\n",
        "mi_boton = ttk.Button(ventana, text=\"Click aquí\", command=saludar)\n",
        "mi_boton.pack()\n",
        "ventana.mainloop()\n",
        "```\n",
        "\n",
        "\n",
        "\n",
        "\n"
      ]
    },
    {
      "cell_type": "markdown",
      "metadata": {
        "id": "JOOBwDagjNC8"
      },
      "source": [
        "![mongo8.png](data:image/png;base64,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)"
      ]
    },
    {
      "cell_type": "markdown",
      "metadata": {
        "id": "ZHONL5E2LYRU"
      },
      "source": [
        "### ttk Entry\n",
        "\n",
        "Este widget representa una caja de texto (textBox)\n",
        "\n",
        "\n",
        "```\n",
        "ttk.Entry(ventana, textvariable=nombre).pack()\n",
        "```\n",
        "**Nota:** se debe definir una variable de tipo tk.StringVar() en la que se obtendrá con el método get() el valor escrito en la caja de texto.\n",
        "\n"
      ]
    },
    {
      "cell_type": "markdown",
      "metadata": {
        "id": "fIyKJ9KrSeg-"
      },
      "source": [
        "```\n",
        "import tkinter as tk\n",
        "from tkinter import ttk\n",
        "from tkinter.messagebox import showinfo\n",
        "\n",
        "def funcion_a_ejecutar():\n",
        "    showinfo(message=nombre.get())\n",
        "\n",
        "\n",
        "ventana = tk.Tk()\n",
        "nombre = tk.StringVar()\n",
        "\n",
        "ttk.Entry(ventana, textvariable=nombre).pack()\n",
        "ttk.Button(ventana, text=\"aceptar\", command=funcion_a_ejecutar).pack()\n",
        "\n",
        "ventana.mainloop()\n",
        "```\n",
        "\n"
      ]
    },
    {
      "cell_type": "markdown",
      "metadata": {
        "id": "YwOqDPiAb6Hd"
      },
      "source": [
        "![mongo8.png](data:image/png;base64,iVBORw0KGgoAAAANSUhEUgAAAMwAAABgCAIAAADengowAAAAAXNSR0IArs4c6QAAAARnQU1BAACxjwv8YQUAAAAJcEhZcwAADsMAAA7DAcdvqGQAAASVSURBVHhe7dbBSyNXHMDxXEp73P4F/Q/WBRHaaPGyPZWgZRXdFEG6KLRLQbBevCxtFa8LPRc8eetNFj0uVTeSKKIgxERFxIsgCAXxou1vJi+TySQZZ5L+krfx+yHIzHszkxnz5SWJi4uL8/Pzs7Oz09PTk5OT4+PjYrFYKBSOjo7y+Xwul8tms78Bjf1aZvZdv7sWFhYWFxcTM6Feu1KplNkH4kv8CygjMqgjMqgjMqgjMqgjMqhrJrLV1dXvXrz4eWbW7AOh4kV2dXU1NTWVHPjyzw//DA4OmlEgVLzIJicnJS95fbNUGB4eNqNAqBiReYU9Tf8hkY2Ojl5eXpo5tCwRyhzUFvJ2uVzO7PjIYHN3EvWcm5ubgYGvpLAvvn4lhT1/+cv4+LiZe9i76UTybcHsoK6Qz6/NkUlMn3z6WaCzuoMRRb37iYmJ0jImDyyR9fb2PrSM+cMisofZE5kIJNVKYSLS3ReLxWfPerzC5DU2NmbmGiKyeKyKTHhheRtmIr5Idz87O+tfxpLDPw0NDZm5Bqbl0JLpd77IZKM0giD5x5itGiFTqkp5tViYiHT3IyMjXmHPF/N9fX13d3dmrqHalazwNmljYPJcIcxB+kLeq5234dfWyOTL0Yus79sf5+fnzUSYYGTJJF+ZYWyLrFSY/PU2zER8ke4+nU7L31Jk/f399/f3pfFQgcjcyviibMyqyAJhtdhZpLuXPr7/4ZU86pMnn2cyGTP6gOBKJtv+IQTYE1ndpFrpLNLd7+/v9/T0yKMuLS2ZoQic5UtU/fAvyM8y2SwdAD/3n9WQOagt5O3qxiSDzd1J1HOur6/b/KjoGlG7ub29JTI0J0Y3KysrZguIg8UJ6ogM6ogM6ogM6ogM6ogM6ogM6ogM6hLXnTCPDjEfQHt1LDITOdqIyKCOyKCOyKCOyKCOyKCOyKCOyKCOyKCOyKCOyKCOyKCOyKCOyKCOyKCOyKCOyKCOyKCOyKDu0UWGjjAfQHt1JjI8Kt0Q2V9dzTzkx6xLIjvrUkRmCyKzHJFZjchsQWSWIzKrEZktiMxyRGY1IrNFpyNbTid637w3O/8vIrMFkVnu8UYmaRjpZTN09v5Nb/VYcMDtadkMumVVLlM6pOayzinptJxReZvoiMwWra1kbjfOOuQEVb0ieVPOZiWp4OG+wyq8QeeU2umIiMwWTUbmBuNyG3CiqV5sKsuYy5ms6kl2youXr6LAZQOzMRGZLZqJrJKUbIVEVj1SVYw37RusvSyRPd7IvI/eySK4VSYHNR6p9OTLqM5lfbPxEZktmonMrcD9TpMf5V4ETkMlZgUrH+Vwhpxi3F/x5QGXOc3Zr70skfHDP56WimkCkdmCyCxHZLEQWTOIzGpEZgsisxyRWY3IbCGfRBczD/kx64bIYDkigzoigzoigzoigzoigzoigzoigzoigzoigzoigzoigzoigzoigzoigzoigzoig7rETKjXrlQqZfaB+BL5fP7w8PDg4GBvb293dzeXy2Wz2e3t7Uwms7W1tb6+vra2Njc39zcQwcbGxubmppQj/UhF0tLOzs5/awFabsFrkUMAAAAASUVORK5CYII=)"
      ]
    },
    {
      "cell_type": "markdown",
      "metadata": {
        "id": "EuIqTp2Ted2P"
      },
      "source": [
        "**Password** La propiedad **show** permite definir el caracter que será mostrado en la caja de texto en lugar del caracter ingresado por el usuario"
      ]
    },
    {
      "cell_type": "markdown",
      "metadata": {
        "id": "nMvwdTjoe6rV"
      },
      "source": [
        "```\n",
        "ttk.Entry(ventana, textvariable=password, show=\"*\").pack()\n",
        "```\n",
        "\n"
      ]
    },
    {
      "cell_type": "markdown",
      "metadata": {
        "id": "nb0Lqvgnf_z9"
      },
      "source": [
        "\n",
        "\n",
        "```\n",
        "import tkinter as tk\n",
        "from tkinter import ttk\n",
        "from tkinter.messagebox import showinfo\n",
        "\n",
        "def funcion_a_ejecutar():\n",
        "    showinfo(message=nombre.get())\n",
        "    showinfo(message=password.get())\n",
        "\n",
        "ventana = tk.Tk()\n",
        "nombre = tk.StringVar()\n",
        "password = tk.StringVar()\n",
        "\n",
        "ttk.Entry(ventana, textvariable=nombre).pack()\n",
        "ttk.Entry(ventana, textvariable=password, show=\"*\").pack()\n",
        "ttk.Button(ventana, text=\"aceptar\", command=funcion_a_ejecutar).pack()\n",
        "\n",
        "ventana.mainloop()\n",
        "```\n",
        "\n"
      ]
    },
    {
      "cell_type": "markdown",
      "metadata": {
        "id": "8yCQdo6CgJQE"
      },
      "source": [
        "![mongo8.png](data:image/png;base64,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)"
      ]
    },
    {
      "cell_type": "markdown",
      "metadata": {
        "id": "eGd7fDDrHhY1"
      },
      "source": [
        "### ttk Checkbutton\n",
        "\n",
        "Este widget representa una casilla de selección (check box)\n",
        "\n",
        "```\n",
        "ttk.Checkbutton(ventana,\n",
        "                text='acepto',\n",
        "                command=funcion_a_ejecutar,\n",
        "                variable=mi_variable,\n",
        "                onvalue='acepto',\n",
        "                offvalue='no_acepto').pack()\n",
        "```\n",
        "\n",
        "**Nota:** se debe definir una variable en este caso llamada mi_variable, la cual obtendrá el valor de acuerdo con las propiedades onvalue y offvalue\n"
      ]
    },
    {
      "cell_type": "markdown",
      "metadata": {
        "id": "MkNOPHzwLNHO"
      },
      "source": [
        "\n",
        "\n",
        "```\n",
        "import tkinter as tk\n",
        "from tkinter import ttk\n",
        "from tkinter.messagebox import showinfo\n",
        "\n",
        "def funcion_a_ejecutar():\n",
        "    showinfo(message=\"seleccionó: \" + mi_variable.get())\n",
        "\n",
        "ventana = tk.Tk()\n",
        "mi_variable = tk.StringVar()\n",
        "\n",
        "ttk.Checkbutton(ventana,\n",
        "                text='acepto',\n",
        "                command=funcion_a_ejecutar,\n",
        "                variable=mi_variable,\n",
        "                onvalue='acepto',\n",
        "                offvalue='no_acepto').pack()\n",
        "ventana.mainloop()\n",
        "\n",
        "```\n",
        "\n"
      ]
    },
    {
      "cell_type": "markdown",
      "metadata": {
        "id": "wdwkjQ4RcRr9"
      },
      "source": [
        "![mongo8.png](data:image/png;base64,iVBORw0KGgoAAAANSUhEUgAAAK0AAABQCAIAAADkwWLTAAAAAXNSR0IArs4c6QAAAARnQU1BAACxjwv8YQUAAAAJcEhZcwAADsMAAA7DAcdvqGQAAAPJSURBVHhe7dw9T9tQFAbgLFW7QUemLnRtkKJENFCx0KkDqQBB00aySkDlS7WUTuxV1kqdu7JkRfyFMiCGbBX8AiQkS5UQC6HnXB9sxxDHdsgtN34f0ci+95rEPa+P3UqQu4HM+7K5hRwAcgAKcgAMOQCWMgcHBwfvFxd37Ybsg+ES5+Di4mJ9fb08O/3r99+5uTkZBcPZtp0sB5ZlUQLo623ztFKpyCgYLlkOvBC8qv6kHCwvL5+fn8vcqMtFkkVa0NsdHx/LTgANpv4kCXJweXk5O/uaQvDizRqFYP7Dt9XVVZnLgIi/Ys05oHo/efosFIV7B+NLkINareY2AzptykGhUOjXDA43cuUfp7JjuseTAxKq+oAhINs7O7HO4ezsbGoq74WAvlZWVmSuJ+RgiLzaexsykUrcHDQajWAzKFe2FhYWZK6HDVrq2jiUIZPRecjWHRFTQ+UmYPAQkLg5WFpa8kIw//1PsVi8vr6WuZ4eph9wknqTRcMX8V46P0bQf8gB3QW8HBTfbe7t7clEFNwXhsgNAb16GzKRStwcVKtVenVzMDMz0+l03PFIyMGwhGo/eBTi5qBcLn/8vEYnPD7+/OjoSEb7QA6G4t6qDxiFuDlot9v5fJ5OuNlsylAMFAQ2Ks+JEWSRFvR299abBlN/krg5II7jaD5h0CZBDq6urpCDUZUgB2R/f1+2YLQkywGMKuQA2OTkS+QAbj6hHwDBfQHYNO4LQHBfAFZHDoDwvxccyDx+TpRNyLBM5GBsbEzzq3HQDx6eiVEwLweFeGS1Yug1qpOROZBn3N5COdAM/UCHFDlAP+gL/SCFlpUrNU9k5y70Ax0eQT/okwMTZagfUPWE1ZIh56RZ6h4LD6iSt2RQFd//NrLEP0QGTOwH/HOusmmIgfuBdzVzAbuv68CF3rL8qoeXB5apBYEMeeOGyUQOhKqpoqrFZZMKisCVzXgyWHLeUQcEBru/ibsA/UCHlP3ALxhtReSge6QrB950nxyYKDP9wKsdVy68dYsW9R7xSx7IgVogtb9dYGI/qNfrGXk+4CqxkmW5/YBxFV2BWt7iIS45HeAPKHKYu+8f0h0ho0xMTGTm+SCN4KUfl4n9wMgcxCGrlQEKkyYHJjIvB3qhH4wQtzA6X42DfgAMOQCGHABDDoAhB8CQA2DIATDkABhyAAw5AIYcAEMOgCEHwOztKnIAjv11FzkAx7a3kQPAfQEU5AAYcgAMOQCGHABDDoAhB8Dw/8rAkANgyAEw5AAYcgAMOQCGHADjHNAfAPnlPpBpudw/dRb7fiivbrQAAAAASUVORK5CYII=)"
      ]
    },
    {
      "cell_type": "markdown",
      "metadata": {
        "id": "9Ggnm8OTcx2d"
      },
      "source": [
        "![mongo8.png](data:image/png;base64,iVBORw0KGgoAAAANSUhEUgAAAK8AAABTCAIAAABmoMBAAAAAAXNSR0IArs4c6QAAAARnQU1BAACxjwv8YQUAAAAJcEhZcwAADsMAAA7DAcdvqGQAAASxSURBVHhe7dfPSyN3GMfx76W0N7dHT/0P6oIobbR42YL0B1pW0XURwq5Kd6Ug2JOFQg8l10LPvXrxKru5bHvprlGTaLLGJOtPPApCoBC8aPvMzOM8k2QyySSdab+Tz4tBMt+ZrGafd75RdXRyViwfHxyW9vOFvdzbTDa3m9nbSWe3dzOpnfTW9u6b1M7rLeP48812zx4//PhT3YqGR+ruME6tmdJwacTbOxmaeDqbU6V3RgrfPnuOw+P44quv61YieahC8R3tCvTob+h5ijaG7H4eNQBR+YMifWCgBiCKPiboNwjUAETt5Q7ozwfUAERl99/SX5KoAYjK7OW2Urud1bC5ufnNw4ffrazyOWhOnZ+fl8vllZUVXmjP1dXV4uJibPST37b+Ghsb41XQnDo7OyuVSn5riMfj1AEdnyeOJicneRU0p05PT4vFoq8a7BQ+nvuVapienr68vORrUac88U2hoG+XTqf5xIEWO/5J1MnJyeHhYfs1VKvV0dFPKYWPPntKKTx49P3s7Cxf6wEe/9Eh10BTf+/9D+qCcF1sn1FDoVBov4b5+XlrY6AXTzUMDg622hheLKnYL0d8orv/Tw2kbvZdpkD81XB8fHz//oCdAh0zMzN8rSnUECC7APsBX+iIvxpWV1edG0Ns8vnExARfa2KJbrUsveAlndHr4EcNPC4Fyuqg+xSIvxqmpqbsFB78XB4aGrq5ueFrTf07e4PRU3N8U/A8vleYP4bTf1YDfS7YNQx9+WxtbY0veMEnRYCsFOir/YAvdMRfDXNzc/TVqmFkZOT29tZa94QaglJXQPdB+KshFos9fvKUXva9ex+mUilebQE1BMJ19l0G4a+GfD4/MDBALzuRSPBSGygHQ1R+i/TAN4WCvp3r1Gmx45/EXw2kUqmE/LIhNL5ruL6+Rg1R5bsGsr6+zo8gWjqpAaIKNYBADSBQAwjUAAI1gEANIFADCKmhAj0PNYDooRr6+vpC/qod7A1B0TEIXWsYbA/fbdL0/RomjWvg34Obq6shZNgbwtNBDdgbWopgDRcXF+Pj48lkMuC9YSOuhhNZPmmEvSE8zWqwUlheXq5WqwHvDS1q0FGkanCmQKeuewPNkMU3eKmSTQzXrtUvmIPf4EUzAfln+BZ5Ci9gbwgPTZo+C2j2VIBrCsRzb7Df2cYYa9/jjjf9RlxmX3+74zbzBkdJ9rpmNK6Bpk6zt4JoTIG47g3WZE3mzIzh8RyZ411uMC46B2+cmE9wLNb+I9YN2BvCQ5OmedtBNKZAXPYGGRs98qihdqWmBvtyixp0pF79/sfLZHJhYYEXNGHVQKwgGlMgLnuDPUFjfvWP7tBNzVdk8I4azBu4gLsbtNwbLP39/bygCbsGDy57gzkrw3A8bu0NBmOWFsdE7xhLxuDpCbJg4qdZ5/KU2pC0wq+gF2rognMbaBf2hvDQpNvBd5u6GE8nNehI1xrChb0hcqzxhPlVOz1UA7SEGkCgBhCoAQRqAIEaQKAGEKgBBGoAgRpAoAYQqAEEagCBGkCgBhCoAQRqAIEaQKAGEKgBBGoAgRpAoAYQqAEEagCBGkCgBhCoAQRqAIEaQEgNAFwDgFLqHw8KILfbfFngAAAAAElFTkSuQmCC)"
      ]
    },
    {
      "cell_type": "markdown",
      "metadata": {
        "id": "vkBuEVX_grBU"
      },
      "source": [
        "### Uniendo las piezas"
      ]
    },
    {
      "cell_type": "markdown",
      "metadata": {
        "id": "98xpg8lMmsQM"
      },
      "source": [
        "```\n",
        "import tkinter as tk\n",
        "from tkinter import ttk\n",
        "from tkinter.messagebox import showinfo\n",
        "\n",
        "# ventana principal\n",
        "ventana = tk.Tk()\n",
        "ventana.geometry(\"300x200+400+200\")\n",
        "ventana.resizable(False, False)\n",
        "ventana.title('Autenticación de usuario')\n",
        "\n",
        "# variables para guardar el usuario, el password y la opción de guardar password\n",
        "usuario = tk.StringVar()\n",
        "password = tk.StringVar()\n",
        "check = tk.StringVar()\n",
        "\n",
        "# función que se ejecuta al dar click en el botón login\n",
        "def login_click():\n",
        "    mensaje = f\"usuario: {usuario.get()}, password: {password.get()}.\\nGuardar password: {check.get()}\"\n",
        "    showinfo(title='Atención', message=mensaje)\n",
        "\n",
        "# Creando un Frame\n",
        "fra_login = ttk.Frame(ventana)\n",
        "fra_login.pack(padx=10, pady=10, fill='x', expand=True)\n",
        "\n",
        "# usuario\n",
        "lbl_usuario = ttk.Label(fra_login, text=\"usuario:\")\n",
        "lbl_usuario.pack(fill='x', expand=True)\n",
        "\n",
        "txt_usuario = ttk.Entry(fra_login, textvariable=usuario)\n",
        "txt_usuario.pack(fill='x', expand=True)\n",
        "txt_usuario.focus()\n",
        "\n",
        "# password\n",
        "lbl_password = ttk.Label(fra_login, text=\"Password:\")\n",
        "lbl_password.pack(fill='x', expand=True)\n",
        "\n",
        "txt_password = ttk.Entry(fra_login, textvariable=password, show=\"*\")\n",
        "txt_password.pack(fill='x', expand=True)\n",
        "\n",
        "# checkbutton\n",
        "check_guardar = ttk.Checkbutton(fra_login,\n",
        "                text='guardar password',\n",
        "                variable=check,\n",
        "                onvalue='True',\n",
        "                offvalue='False')\n",
        "check_guardar.pack(fill='x', expand=True)\n",
        "\n",
        "# button\n",
        "btn_login = ttk.Button(fra_login, text=\"Login\", command=login_click)\n",
        "btn_login.pack(fill='x', expand=True, pady=10)\n",
        "\n",
        "ventana.mainloop()\n",
        "\n",
        "```\n",
        "\n"
      ]
    },
    {
      "cell_type": "markdown",
      "metadata": {
        "id": "5wCEw6G0m0bM"
      },
      "source": [
        "![mongo8.png](data:image/png;base64,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)"
      ]
    },
    {
      "cell_type": "markdown",
      "metadata": {
        "id": "5UTGU-UrLlMV"
      },
      "source": [
        "### Asignación de propiedades a un widget\n",
        "\n",
        "Además de la posibilidad que tenemos de asignar las propiedades de un widget en el momento de su creación, también lo podemos hacer después de creado.  Esto permite entre otras cosas el cambio de valor en las propiedades en tiempo de ejecución.\n",
        "Existen Dos maneras de cambiar las propiedades:\n",
        "\n",
        "**A través de un diccionario**\n",
        "\n",
        "\n",
        "```\n",
        "widget[propiedad] = valor\n",
        "```\n",
        "\n",
        "o **a través del método config() del objeto widget**\n",
        "\n",
        "\n",
        "```\n",
        "widget.config(propiedad=valor)\n",
        "```\n",
        "\n",
        "Para entenderlo, tratemos de capturar el nombre y el apellido de una persona en 2 widgets de tipo Entry y presentemos en un Label ambos valores.  Miremos:\n",
        "\n",
        "\n",
        "\n",
        "```\n",
        "import tkinter as tk\n",
        "from tkinter import ttk\n",
        "from tkinter.messagebox import showinfo\n",
        "\n",
        "def funcion_a_ejecutar():\n",
        "   etiqueta[\"text\"] = nombre.get() + \" \" + apellido.get()\n",
        "\n",
        "ventana = tk.Tk()\n",
        "nombre = tk.StringVar()\n",
        "apellido = tk.StringVar()\n",
        "\n",
        "ttk.Entry(ventana, textvariable=nombre).pack(fill='x', expand=True)\n",
        "ttk.Entry(ventana, textvariable=apellido).pack(fill='x', expand=True)\n",
        "etiqueta = ttk.Label(ventana)\n",
        "etiqueta.pack(fill='x', expand=True)\n",
        "ttk.Button(ventana, text=\"aceptar\", command=funcion_a_ejecutar).pack(fill='x', expand=True)\n",
        "\n",
        "ventana.mainloop()\n",
        "\n",
        "```\n",
        "\n",
        "\n"
      ]
    },
    {
      "cell_type": "markdown",
      "metadata": {
        "id": "toiS3SigU7gQ"
      },
      "source": [
        "### Paso de argumentos a las funciones controladoras de eventos\n",
        "\n",
        "Una misma función puede controlar los eventos de diferentes widgets recibiendo un parámetro que identifique al widget que generó el evento.  Miremos:\n",
        "\n",
        "Crearemos dos botones y en la misma función mostraremos el texto del botón presionado.\n",
        "\n",
        "\n",
        "\n",
        "```\n",
        "import tkinter as tk\n",
        "from tkinter import ttk\n",
        "from tkinter.messagebox import showinfo\n",
        "\n",
        "def funcion_controladora(param):\n",
        "    showinfo(message = param)\n",
        "\n",
        "ventana = tk.Tk()\n",
        "ttk.Button(ventana, text=\"1\", command= lambda : funcion_controladora(\"1\")).pack()\n",
        "ttk.Button(ventana, text=\"0\", command= lambda : funcion_controladora(\"0\")).pack()\n",
        "\n",
        "ventana.mainloop()\n",
        "```\n",
        "Observemos que para el envío de parámetros debemos usar funciones tipo lambda\n"
      ]
    },
    {
      "cell_type": "markdown",
      "metadata": {
        "id": "GX7UukMtXVCi"
      },
      "source": [
        "![mongo8.png](data:image/png;base64,iVBORw0KGgoAAAANSUhEUgAAAI8AAACFCAIAAADtmjyiAAAAAXNSR0IArs4c6QAAAARnQU1BAACxjwv8YQUAAAAJcEhZcwAADsMAAA7DAcdvqGQAAAOsSURBVHhe7doxS1tRGMbxLKUd7Rew36ARQqBNLFns1MGUKNpbBKkabGxaIZ1cnEo+QOeCk1s3v4BTHZzcSl26CkKgIC5J+yb39ZIGCffec+/JeQ7PDwk35wRyj3/eKGhhf0Y+3fk40m63P4zs7e21Wq3d3d1ms9loNPTVdumduXdvw1p/CQRrIWEtJKyFhLWQsBaSlLVOTk5eNxrt/Y4+JysS17q+vt7Z2aksPvv240+tVtNVsiJxrc3NTekkXy+7v+r1uq6SFclqRameBl+l1urq6tXVle45ozCVvsgKebvz83N9MkYW091Jglo3NzeLi88l1ZMXW5Jq6c3n9fV13XPJlG+E5VpS5cHDRxPB7l2MKUGtjY2NcLDkzFKrVCo5OFjCnVpioo1JKhG31uXl5cJCMUolX2tra7rnGKdqiahQdKEbycWt1el0xgerUm8tLy/rnmNcqyXCToapRNxaKysrUaqlLz/L5XK/39e9O7I7hb4of1Pey+ZtjLNdSz73olrlV+8PDg50wz2u1QpTyWN0oRvJxa0VBIE8hrWq1epgMAjXHeRUrYlChsHi1qpUKm/fbclp5+Yen52d6aqT3Kl1bxuTYHFrXVxcFItFOW2329UlV8lNTqEvskLe7t4qspjuTuLWEr1ez/JpaUKCWre3t6w1WwlqiePjY72iWUhWi2aLtZCwFhLWQsJaSFgLCWshYS0kw1o9AmGv1nev6SFzZrXWb0/5XGt+ft6zR29rhcfzjM+z5RPOFh7OFgbOVhaOgkIhONInueNspXZ6WJJSQWClFmcrEzJcnC0DtmYrZKkWZysTns7W9va2XuaMs2WOs5UBb2vZwtkyw9ky5+tsWcLZwsPZwsDZwuPzbIXBfHr0uZZ//KzlMT1kzuzVInOshYSfhNnQQ+aMv2VkgLWQsBYS1kLCWkhYCwlrGTgKCiOlw1NdyRlrpRb91VguLPVirbTG/sR/eliyk4u1UvqvkK1/zmCtlFgrG6xljj+3MsBaaUkizSXd7MRiLROSacTKp+AQayFhLSSshYS1kLAWEtZC4mctj+khc2avFpljLSSshYS1kLAWEtZCwlpIWAsJayFhLSSshYS1kLAWEtZCwlpIWAsJayFhLSSshYS1kLAWEtZCwlpIWAsJayFhLSSshYS1kLAWEtZCwlpIWAsJayFhLSSshYS1kLAWEtZCwlpIWAsJayFhLSSshYS1kLAWEtZCwlpIWAsJayFhLSSshYS1kLAWjl7vH5D3qIQkrWOEAAAAAElFTkSuQmCC)"
      ]
    },
    {
      "cell_type": "markdown",
      "metadata": {
        "id": "_Mh6pyWAaE6f"
      },
      "source": [
        "## Layouts\n",
        "\n",
        "A la forma como se distribuyen los widgets sobre el contenedor (ventana, frame) se le conoce como Layout.\n",
        "\n",
        "Tkinter nos ofrece 3 tipos de Layout\n",
        "\n",
        "\n",
        "*   pack\n",
        "*   grid\n",
        "*   place\n",
        "\n"
      ]
    },
    {
      "cell_type": "markdown",
      "metadata": {
        "id": "R57Ke7ZGaxAe"
      },
      "source": [
        "### Pack Layout\n",
        "\n",
        "Hasta ahora el Layout que hemos usado es el layout pack.  Este tiene la característica de organizar los widgets de arriba hacia abajo"
      ]
    },
    {
      "cell_type": "markdown",
      "metadata": {
        "id": "XGDX0kSLbB_0"
      },
      "source": [
        "![mongo8.png](data:image/png;base64,iVBORw0KGgoAAAANSUhEUgAAAI8AAACFCAIAAADtmjyiAAAAAXNSR0IArs4c6QAAAARnQU1BAACxjwv8YQUAAAAJcEhZcwAADsMAAA7DAcdvqGQAAAOsSURBVHhe7doxS1tRGMbxLKUd7Rew36ARQqBNLFns1MGUKNpbBKkabGxaIZ1cnEo+QOeCk1s3v4BTHZzcSl26CkKgIC5J+yb39ZIGCffec+/JeQ7PDwk35wRyj3/eKGhhf0Y+3fk40m63P4zs7e21Wq3d3d1ms9loNPTVdumduXdvw1p/CQRrIWEtJKyFhLWQsBaSlLVOTk5eNxrt/Y4+JysS17q+vt7Z2aksPvv240+tVtNVsiJxrc3NTekkXy+7v+r1uq6SFclqRameBl+l1urq6tXVle45ozCVvsgKebvz83N9MkYW091Jglo3NzeLi88l1ZMXW5Jq6c3n9fV13XPJlG+E5VpS5cHDRxPB7l2MKUGtjY2NcLDkzFKrVCo5OFjCnVpioo1JKhG31uXl5cJCMUolX2tra7rnGKdqiahQdKEbycWt1el0xgerUm8tLy/rnmNcqyXCToapRNxaKysrUaqlLz/L5XK/39e9O7I7hb4of1Pey+ZtjLNdSz73olrlV+8PDg50wz2u1QpTyWN0oRvJxa0VBIE8hrWq1epgMAjXHeRUrYlChsHi1qpUKm/fbclp5+Yen52d6aqT3Kl1bxuTYHFrXVxcFItFOW2329UlV8lNTqEvskLe7t4qspjuTuLWEr1ez/JpaUKCWre3t6w1WwlqiePjY72iWUhWi2aLtZCwFhLWQsJaSFgLCWshYS0kw1o9AmGv1nev6SFzZrXWb0/5XGt+ft6zR29rhcfzjM+z5RPOFh7OFgbOVhaOgkIhONInueNspXZ6WJJSQWClFmcrEzJcnC0DtmYrZKkWZysTns7W9va2XuaMs2WOs5UBb2vZwtkyw9ky5+tsWcLZwsPZwsDZwuPzbIXBfHr0uZZ//KzlMT1kzuzVInOshYSfhNnQQ+aMv2VkgLWQsBYS1kLCWkhYCwlrGTgKCiOlw1NdyRlrpRb91VguLPVirbTG/sR/eliyk4u1UvqvkK1/zmCtlFgrG6xljj+3MsBaaUkizSXd7MRiLROSacTKp+AQayFhLSSshYS1kLAWEtZC4mctj+khc2avFpljLSSshYS1kLAWEtZCwlpIWAsJayFhLSSshYS1kLAWEtZCwlpIWAsJayFhLSSshYS1kLAWEtZCwlpIWAsJayFhLSSshYS1kLAWEtZCwlpIWAsJayFhLSSshYS1kLAWEtZCwlpIWAsJayFhLSSshYS1kLAWEtZCwlpIWAsJayFhLSSshYS1kLAWjl7vH5D3qIQkrWOEAAAAAElFTkSuQmCC)"
      ]
    },
    {
      "cell_type": "markdown",
      "metadata": {
        "id": "of9A-9IamlI4"
      },
      "source": [
        "![mongo8.png](data:image/png;base64,iVBORw0KGgoAAAANSUhEUgAAAMYAAAA9CAIAAAB5rIHQAAAAAXNSR0IArs4c6QAAAARnQU1BAACxjwv8YQUAAAAJcEhZcwAADsMAAA7DAcdvqGQAAAQxSURBVHhe7du/SxthHMfxLKUd7Zipf8E1ShDamOJiFzuYoib2iiA1Ci0UAumUxalkFboFCk5u3UTI6FQHJ5dWE38EcVAQAgVx0fZ793y9XH6dudzdc9e7zwspd89zNXeP796l2sYuLi7Oz8/Pzs4ajcbJycnx8fHR0VG9Xq/VaoeHhwe637ZUK9mxsZhurFThwZZqSZvMdkxUsnRwlXe60KxgcUww0cUOc87VSil7v4bZrt9Ps8YKd8965tc9sSvaoEgoFQqGyjk9PaWQYgWWn1biGmU6zyOtsXg6Vyjk0mK7RUnnWseyXFpRlOnucQN9GjpC/4xttNfqGmxHh5jPLrTy2hrdr622Q18UfVvI6wNiqWhWafuSBYCW1F8AlyApcJmWFN1AeQ/AMS0pehDzHoBjWlL05o73ABzTk4orvAfgmJYU/c2c9+zY2tp6Ozv7uVDkfQCdllQhb+/Bd3V1tbKykkq/+P7zz+TkJI8C6MSDL857g1laWqKY6ON1uZbJZHgUQKffpex8E8Ho6bn6jZKan5+/vLzkORiM+EFKP3yQFPRye3t7vGNCg0Ofib2krq+v0+mX1NOzV8vU09S7LwsLCzz3sO3VWGq9xjtRZvHVkpwUpfPo8ZOOqnoODs5eUouLi+IWRVdOSSWTyYduUeaMkBQLTlKkIyCHPREbSdXr9dHRhNETfeRyOZ7rC0n1EKikiJGRscETQ7GRVLFYNN+iUplPMzMzPNfHKh0qrG6bkqINMRJRdPW81cViylMiJuc9ERtJzc3NGT1NfT0YHx+/vb3lub6671K19ZRvOdHJW+CDvGfxWjJPw8yfpOgxZyQ1/uZjqVTiCSudSaVSePgFLinRE/1qbPDEUGwkpaoq/SqSmpiYuLu7E+OWOpLSm4rwI08IVFIdGTmvykZSVMP7D8t0zSMjT3d3d3n0AZ13Kdo2D0VTcJLqGZDDqmwktb+/n0gk6JrL5TIPDUC7NZG2t+c1ejtFm+KACNJXpC8+SAp6uZ7p0ODQZ6IlNfgPZJrNpuRrhv+Ofpca+MfGNzc3SAqs2UuKbG5u8hZAL/TQs/2PWwAs2Hh7DjAIJAUuQ1LgMiQFLkNS4DItKfzXUHCR/k0E3KXAPfzgawK4BEmBy/jBR1s/Qk1cbRDwCYUUXWDrLkX7jZASlxoQoV9nJCUbkgoDJCUHkvIHkgoDJCUHkvIHkvLGhhqLqRu847mIJqUtsia5tsMjHvMrqZ21JOWkqkjKWxSUWGHakBSVX0kJxgXLEMWkTAtMf4jlNIWk/CFnndsykrXYSMofSMojSMpbSMpbEUzKvMB4L+W+KCZFHfEK01LLKQpJ+UTeOtMa66QttL9JSRXRpKRDUv5AUmGApORAUv5AUmGApORAUv6IVlIhpn81A4FPKKToAltJAbgCSYHLkBS4jJMCcE2h8A/6dwoSZjiXeQAAAABJRU5ErkJggg==)"
      ]
    },
    {
      "cell_type": "markdown",
      "metadata": {
        "id": "Rn8LF1IkjO6c"
      },
      "source": [
        "### Grid Layout\n",
        "\n",
        "Este tipo de Layout organiza los widgets en forma de tabla (filas y columnas).  De esta manera, a cada widget que intentemos agregar debemos indicarle la posición (fila, columna) donde debe ser posicionado.\n",
        "\n",
        "Para esto contamos con las propiedades **column** y **row**\n",
        "\n",
        "Para el ejemplo, intentemos posicionar 6 botones en una tabla de 2 columnas x 3 filas\n",
        "\n",
        "\n",
        "```\n",
        "import tkinter as tk\n",
        "from tkinter import ttk\n",
        "\n",
        "ventana = tk.Tk()\n",
        "ttk.Button(ventana, text=\"1\").grid(column=0, row=0)\n",
        "ttk.Button(ventana, text=\"2\").grid(column=1, row=0)\n",
        "ttk.Button(ventana, text=\"3\").grid(column=0, row=1)\n",
        "ttk.Button(ventana, text=\"4\").grid(column=1, row=1)\n",
        "ttk.Button(ventana, text=\"5\").grid(column=0, row=2)\n",
        "ttk.Button(ventana, text=\"6\").grid(column=1, row=2)\n",
        "ventana.mainloop()\n",
        "```\n",
        "\n"
      ]
    },
    {
      "cell_type": "markdown",
      "metadata": {
        "id": "bGTUCWq6rXue"
      },
      "source": [
        "![mongo8.png](data:image/png;base64,iVBORw0KGgoAAAANSUhEUgAAAJgAAABsCAIAAAAZo+x5AAAAAXNSR0IArs4c6QAAAARnQU1BAACxjwv8YQUAAAAJcEhZcwAADsMAAA7DAcdvqGQAAASWSURBVHhe7drNShtRGMbxbEq7bG/A3kEtBKGNFjftqgstVbRTBKm4aKFQsCs3WRUvoOtCVu668wakaiPGD+JH0AakW0EQCuJG2/dkTiZxkDCJnefMPPP+kWBmIubtL2dmipP7q1GkkCQpJEkKSZJCkqSQJPUCubS09Or164+f5uxzLQF1B3l6ejo7O1sYevLt55/h4WG7VUtA3UFOT08LoXy9WPg1Ojpqt2oJqAvIQPGR91Ugx8fHT05O7L40lOuYfREk+XWVSsU+aUs29vxOov7Y+fn50NBTUXz4bEYUn7/5PDk5afelpA7/RmBIAbtz917I8saN0Ys6wNTUlL8cZWaBzOfz6VqOUnIgpRDbLRWlSAPU6/XHj/sDRfmamJiw+9JToiClAC/4xu7oqUgDzM3NtS/HwuiHkZERuy89JQ1S8glvryhFGmBsbCxQfP7lcGBg4PLy0u6LkPxgh+yL4q/D70K+jfbQkHIgDSAHXr6fn5+3O1JV0iB9RXkMvrE7eirSAJ7nyaMPOTg4eHV15W9PV4mCDOHd3jLSAIVC4e27GZn2/v0H5XLZbk1byYG8ke2WlpEGqFar/f39Mu3CwoLdlMLk/XfIvgiS/LobwWRjz+8k6o+dnZ2Bp9W6KqrNxcWFQia5LmwWFxftd1ry0kVGkkKSpJAkKSRJCkmSQpKkkCQpJEm5M40iA/mdOn9O+4Q0GdBC/ibNHzILMypk6lNIkhSSJIUkSSFJcgRZ8nI5r2SfxB4e0szXKF9ctptiDg+5XMwLoucRQy4Xi3Y2AQVR4iH9ZELmFdlMPrUK+f9yB4kbUyFjDHdgVcjYMpcCMEVJIeMId2oMUsgYgg5nU8j/X+M/WK0wa9MVJDQwpJMUkiSFJEkhSVJIkhSSpGuQxDUc+Wc0kBpBCkmSHloZkgH1Yif1ZRSyr6+P7DGLkP7kZGURkixdkVRlEZIsVyuy9WdX2F+WQ5CwFYm8bwcPWSr5fmZKEGUIElXJ3G4eP6TzcyTubo8QJGZFygfVK+JuwnIHCbxrJwSJyDCWzCPxijTHVOQZ0sGKbAJCIP0cQNrMGQQ0ZQgy7lp83CsyCHZwDUHGvCIb1zjtQT6ucMjmRWtjYM4V2Yp5Rcps9oOKO0uGIOM/RzbLxDkSWAiSLPfnSFghSNyKBJZFSLJ0RVKVRUjJt2R6zCgkX9cgiWs48s9oIDWCFJIkPbQyJAPqxU7qU0iSFJIkhSRJIUlSSJIcQOL/tOwEsnnHB/QuCCgk7FadIDwk7jaWZk4gwTPiIfEjOoBsHVlhw6IhzTHHwx5ZXazIZrx30ZnTox0NNqRDSPSQuBnNimy76RNyReAYEnPVo5BxZs6VpIdWo+ePZoZEfliRkDKkDTOhBIdsu6RDDYmHdJADSHgKSZJCkqSQJCkkSQpJ0jVI4hqO/DMaSI2g3CeNotzh4eHBwcHu7u7Ozs7W1lalUtnY2FhfXy+Xy2tra6urqysrKz+0xCQcgiI0AiRMgrW5uSl2uePj43q9fnR0VKvV9vf39/b2qtWq7Nje3pZXSD6tlpCEw3cRIGESLFGr1Wr/APgiRv/8pl+SAAAAAElFTkSuQmCC)"
      ]
    },
    {
      "cell_type": "markdown",
      "metadata": {
        "id": "g1GSnfLclvE1"
      },
      "source": [
        "Algunas veces necesitamos expandir columnas o filas, para ello usamos las propiedades **columnspan** y **rowspan** respectivamente.\n",
        "\n",
        "Por ejemplo, intentemos ubicar el botón con el número cero (0) debajo del 5 y 6 ocupando ambas columnas.\n",
        "\n",
        "Agreguemos la siguiente línea debajo del botón 6\n",
        "\n",
        "\n",
        "```\n",
        "ttk.Button(ventana, text=\"0\").grid(column=0, row=3, columnspan=2)\n",
        "```\n",
        "\n"
      ]
    },
    {
      "cell_type": "markdown",
      "metadata": {
        "id": "8hffINTLuFYd"
      },
      "source": [
        "![mongo8.png](data:image/png;base64,iVBORw0KGgoAAAANSUhEUgAAAJsAAACDCAIAAAAVhv4tAAAAAXNSR0IArs4c6QAAAARnQU1BAACxjwv8YQUAAAAJcEhZcwAADsMAAA7DAcdvqGQAAAU4SURBVHhe7dpNSytnGMbxbEq7PP0E/Qb1QBBatbg5XXWh5SjaOQjSg4sWCoJducmq+AG6LmTlrju/gFRjQhKNMSqxInQrCEJB3Gh7T+bO5IUQnJi5n8k11x8RM5ODuf1lXg55Mpubm/8xiITy6uqKojgJ5eXlJUVxEspGo0FRnISyXq9TFCehrNVqI4ru7e19//79L5tb+pglIKE8OTmJLHp3d7exsTEz99UfR//Oz8/rVpaAhLJarUYWXV9fF0v5+nbn78XFRd3KEpBQViqVaKIh55fe7yK6vLx8e3ur+yahzND0SSbJr5O/vj7oyicZ9ZUIZblcjiD68PAwN/e1cH7xzUfhfPfDr6urq7pvQhryxzIWFblPPv2sD3XgxpcnlKVSKYLo2tpacIDK8CKazWYn6wCVkiMq9fm9klMSymKx+FLR6+vrt2+nQk75WllZ0X2TU6JEpVAx/EF3jJRQHh0dvVR0a2ur+wCdWfx5YWFB901OSROVAsvXc0rRRJeWlkLOd781p6enn56edN8Lkn84JH1S/A35XZYvoztnonKODUWnv/tpe3tbd0xUSRMNOOV7+IPuGKloop7nyfdAdHZ29vn5Odg+WSVKtE/x9ajRRGdmZj78+FHGfvPmc7mh0q2TVnJEB/q9EjWaaL1en5qakrF3dnZ00wQmr39I+iST5NcNlJONI7+SaKLS/f298dgsUpFFHx8fKZrkIotKu7u7+hNLXqOIsiRHUbQoihZF0aIoWhRFi6JoURStjug9g6hH9E/ogoH1AWgyYL/oP6AF06ZhRoriRFG0KIoWRdGiKFquRfNeJuPl9UHs2Yv687XK5vZ1U8w5FN3PZUXT84BF93M5nU1kjUwdigbJqMjHaDt5+1I0htyJ2o1JUYvszrkUjT//dsGMU6JorNldPsMoGmemw2kUjbHW/8862RytzkVNMxZ1EkXRoihaFEWLomhRFK3BosC1QPFn7BFlAFEUrR5RPXRBCwbWB6DJgP2iepGFK5g2DTNSFCeKokVRtCiKFkXRcija+TzY7CNvV6KWa40ciubzAaQ/rpGpI9G8v7A+BaJhdgtTnIjKO9bL2a0gS4Co4UojB6K+Z97/ngZR/3RreRV1INqWTImo5l9ljMY1Fu04pkvU8LxrK9q6IerOBNWdaPtWtzU55jHaKRXHqAypb127KylF0XImahhF0aIoWhRFi6JoURStwaLAtUDxZ+wRZQBRFK0eUT10QQsG1gegyYD9onqRhSuYNg0zUhQniqJFUbQoihZF0XIpav+ZtxPR9uIU03UabkTNlheF2Yvarbhp51bUeFh7UfsRXYp2TrpmU1uL+mchz/ak6/QYbYe7FtC/hOpoZkMmQdR6WrsZ/WO0aw2ryV1DUkRtbpEoapJ/PQU96/qMwWj+kJbvWieiMq1mM6pkLtp1/2c1pENRBzkQNY+iaFEULYqiRVG0KIrWYFHgWqD4M/aIMoAoipZjUT1ZgKZD2uZeVC/rcFEULYqiRVG0KIoWRdGiaMy1P2U3WjNB0ZgLl/qEi0Vij6JxFoK21ooYrz40LhWiPYpdurFG0RijqF0UHXupEE3bdbRQKKCLCqOSiq0NKEXjTihbmZxx/SiKlkPRFFxHXURRtByKFotFio4/h6KlUomi48+haLlcpuj4cyhaqVRcigKnQ9omlMfHx85E2dgTytPTU1+UwXR+fp65ublpNpsXFxdnZ2e1Wk0OWzkXywVW7prkVrhQKBweHh4cHPzFEpNwCIrQCJAwCVa1WhW7RqPRbDb/B5BuW58B8shIAAAAAElFTkSuQmCC)"
      ]
    },
    {
      "cell_type": "markdown",
      "metadata": {
        "id": "Y1EQGfU5v8t7"
      },
      "source": [
        "Las propiedades fill y expand no funcionan con layouts de tipo Grid.\n",
        "\n",
        "La propiedad **sticky** puede ser usada para ampliar el widget an sentido horizontal con su valor **EW** o vertical con su valor **NS**.  \n",
        "\n",
        "agrega esta propiedad con el valor tk.EW al grid del botón cero (0).  La línea quedaría así:\n",
        "\n",
        "\n",
        "\n",
        "```\n",
        "ttk.Button(ventana, text=\"0\").grid(column=0, row=3, columnspan=2, sticky=tk.EW)\n",
        "```\n",
        "\n"
      ]
    },
    {
      "cell_type": "markdown",
      "metadata": {
        "id": "lMDhOEEbxtej"
      },
      "source": [
        "![mongo8.png](data:image/png;base64,iVBORw0KGgoAAAANSUhEUgAAAJoAAACCCAIAAAAxGEa2AAAAAXNSR0IArs4c6QAAAARnQU1BAACxjwv8YQUAAAAJcEhZcwAADsMAAA7DAcdvqGQAAAVUSURBVHhe7dpPSytnFMdxN6Vd3i676jtoLgShjSlublddmKISmyJILy5aKAh25Sar4q6bdlvIyl13vgE3mpCo+aMx16uCuBMEoSButD2T5+RJDCE3o53zzPOb80UkmSjm+HGemZiZ+lfzv7W1tfPz86urK+VEiDhPT08vLy+VEyHiPDk5ubi4UE6EiPPo6Ojs7Ew5ESLOZrNJ661yIkSc9Xq90+mE5tze3v5ufv6XtXW+r8Ug4jw8PGy32yE4b25uVldXM9kv/9r7Z3Z2lrdqMYg49/f3j4+PQ3CurKwQJH18s/k+l8vxVi0GEWetVmu1WpNyWssvCn8Q5+Li4vX1NT/mQ1Nj4y8SiX4c/er5zkC08dnPhDir1SqdDU30/Xd3d9nsV2T5+ddvyfLN978uLS3xY5405jclzElsH338yZDoyI2TR5yVSqXRaEw0yfLystk1aXLiTKfTfu2aVHw4qSG8F1pSxFkul+nk9sOT0IvT169T1pI+8vk8P+ZPseKkLKG9wQ88K+Lc29ujk9sPT7K+vj64a2ZyP8/NzfFj/hQ3TspAvtySCsG5sLBgLd/89m56evrh4YEfmyD6xjHxF0XfmJ8l+TQGc8NJS6vlnP72p42NDX7Aq+LGaSzps73BDzyrEJyFQoE+G86ZmZnHx0ez3a9ixTlE+HLREJyZTOaHH9/SzK9efUqnT7zVt+LDORLvhaIhOOnFaSqVopk3Nzd5k4fR8x8Tf5FI9ONGstHGZz+TEJzU7e2t8MxaqMJx3t/fK2ecC8dJbW1t8S0tfuWzn9H+NjX/p+5zCAV75++5QJQ3aD7X45xXToSYUxdbjJQTKl1soWLOVEo5EdLFFqo+563mf33Ov6Ez0/Id0GhA/q8QRfcvQTOjGk7eBJeZMdg7zf9sldPrlBMq5YRKOaFSTqiccpYKU1OFEt+JPHnOYL5u6eIOb4o4V5w7xTRRFgrAnDvFIs9GrEKgrjhNNCfy3tmL/naV8//OHafcmMoZeXJLrXJGXHCKIGZJKWd0yR0ybcoZWaLDccoZVd2XYv1k9lO3nKIJczpJOaFSTqiUEyrlhEo5oRrBCZzlBO4JpxlY8zrlhEoXW5yGOfmoCpcZ1XDyJriUEyrlhEo5oVJOqJQTKubMZ/ldVqlR+2/uir1/7YpT8noh5hTfO0sloxjMKgTqiLMUXAqPzmmTu77ECSf9uRaKcpeAMaf4YttL8GohB5wBZin4DL93BqssJXbkdMDZY0wCJxccWYRmFebsIyaIU3C5leXsngENJiLqiLN3YtsdG3Pv7Ie/d9KE/Ecrd/RUTqiccQqmnFApJ1TKCZVyQqWcUI3gBM5yAveE0wyseZ1yQqWLLU7DnHxUhcuMajh5E1zKCZVyQqWcUCknVMoJlTNO+TewnXD2rjERveLCAafYJUI2eU65C2d6OeQUnlSeU35EZ5z9tVZsZGnOYP0pyK617vbOXrhX8gWHTR5NbEjnnNKjinLas4PB21EWC06ZcyLljL7gGAq62AaGZrRgSMk/WXlOGpWTmZMS5xw44ZMa0hWngxxwiqecUCknVMoJlXJCpZxQjeAEznIC94TTDKx5nXJClZTFNgkNc/JRVfMw5YRKOaFSTqiUEyrlhCpJnL23zIWufnBRcjjt5Tr2mg/AEsNpNbuXfKB6JoXzCeEALVjKCZVyQpUUzqQdO3d3dw8ODnA5yZA9CRZVMzmcFDl2A11og5LEmYAsJ/qxMxkpJ1SWs1wu1+t15fQ7y1mpVBqNhnL6neWsVqvNZlM5/c5y1mq1VqsVcGpeZzjpVUq73dbrbBEiTjpwdjqd/wDGwlpbjGD8qQAAAABJRU5ErkJggg==)"
      ]
    },
    {
      "cell_type": "markdown",
      "metadata": {
        "id": "eLW9-y_Qxvcy"
      },
      "source": [
        "### Place Layout\n",
        "\n",
        "El layout tipo place posiciona un widget en una ubicación específica del contenedor usando las coordenadas X , Y.\n",
        "\n",
        "Vamos a realizar un ejemplo posicionando 3 botones en 3 posiciones específicas:\n",
        "\n",
        "\n",
        "```\n",
        "import tkinter as tk\n",
        "from tkinter import ttk\n",
        "\n",
        "ventana = tk.Tk()\n",
        "\n",
        "ttk.Button(ventana, text=\"1\").place(x=10, y=20)\n",
        "ttk.Button(ventana, text=\"2\").place(x=50, y=40)\n",
        "ttk.Button(ventana, text=\"3\").place(x=90, y=40)\n",
        "\n",
        "ventana.mainloop()\n",
        "```\n",
        "\n"
      ]
    },
    {
      "cell_type": "markdown",
      "metadata": {
        "id": "Ab3Gnjeu0O9V"
      },
      "source": [
        "![mongo8.png](data:image/png;base64,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)"
      ]
    },
    {
      "cell_type": "markdown",
      "metadata": {
        "id": "jk8vtzcc0cqD"
      },
      "source": [
        "Como podemos ver, las posiciones específicas pueden darnos lugar a comportamientos no deseados"
      ]
    },
    {
      "cell_type": "markdown",
      "metadata": {
        "id": "WtLvSwT21xCs"
      },
      "source": [
        "## Apropiación\n",
        "\n",
        "Realice una calculadora básica y funcional con las operaciones (suma, resta, multiplicación y división), utilizando interfaz gráfica Tkinter."
      ]
    },
    {
      "cell_type": "code",
      "execution_count": null,
      "metadata": {
        "id": "tzgQf5GccwN3"
      },
      "outputs": [],
      "source": []
    }
  ],
  "metadata": {
    "colab": {
      "private_outputs": true,
      "provenance": []
    },
    "kernelspec": {
      "display_name": "Python 3",
      "name": "python3"
    },
    "language_info": {
      "name": "python"
    }
  },
  "nbformat": 4,
  "nbformat_minor": 0
}
